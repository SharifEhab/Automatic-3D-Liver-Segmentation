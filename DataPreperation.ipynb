{
 "cells": [
  {
   "cell_type": "code",
   "execution_count": 60,
   "id": "0f3beff5-8a1e-4758-b0f7-350c7c06f054",
   "metadata": {},
   "outputs": [],
   "source": [
    "in_path_labels = 'D:/Liver Segmentation Dataset/dicom/segmentation_volumes'\n",
    "out_path_labels = 'D:/Liver Segmentation Dataset/dicom_groups/labels'\n",
    "in_path_volumes = 'D:/Liver Segmentation Dataset/dicom/dicom_volumes'\n",
    "out_path_volumes = 'D:/Liver Segmentation Dataset/dicom_groups/images'"
   ]
  },
  {
   "cell_type": "code",
   "execution_count": 88,
   "id": "753f6647-4ada-4d3d-9e2a-c5182d69c2c9",
   "metadata": {},
   "outputs": [],
   "source": [
    "from glob import glob\n",
    "import shutil\n",
    "import os\n",
    "import dicom2nifti\n",
    "import nibabel as nib\n",
    "import numpy as np"
   ]
  },
  {
   "cell_type": "markdown",
   "id": "c91b5d1c-2de2-4877-af66-e5b8d99f26c6",
   "metadata": {},
   "source": [
    "# Create groups of 64 dicom slices"
   ]
  },
  {
   "cell_type": "code",
   "execution_count": 62,
   "id": "561ca8f2-7862-498b-ba8c-8c2b515ec039",
   "metadata": {},
   "outputs": [
    {
     "name": "stdout",
     "output_type": "stream",
     "text": [
      "['D:/Liver Segmentation Dataset/dicom/segmentation_volumes\\\\vol_0', 'D:/Liver Segmentation Dataset/dicom/segmentation_volumes\\\\vol_1', 'D:/Liver Segmentation Dataset/dicom/segmentation_volumes\\\\vol_10', 'D:/Liver Segmentation Dataset/dicom/segmentation_volumes\\\\vol_100', 'D:/Liver Segmentation Dataset/dicom/segmentation_volumes\\\\vol_101', 'D:/Liver Segmentation Dataset/dicom/segmentation_volumes\\\\vol_102', 'D:/Liver Segmentation Dataset/dicom/segmentation_volumes\\\\vol_103', 'D:/Liver Segmentation Dataset/dicom/segmentation_volumes\\\\vol_104', 'D:/Liver Segmentation Dataset/dicom/segmentation_volumes\\\\vol_105', 'D:/Liver Segmentation Dataset/dicom/segmentation_volumes\\\\vol_106', 'D:/Liver Segmentation Dataset/dicom/segmentation_volumes\\\\vol_107', 'D:/Liver Segmentation Dataset/dicom/segmentation_volumes\\\\vol_108', 'D:/Liver Segmentation Dataset/dicom/segmentation_volumes\\\\vol_109', 'D:/Liver Segmentation Dataset/dicom/segmentation_volumes\\\\vol_11', 'D:/Liver Segmentation Dataset/dicom/segmentation_volumes\\\\vol_110', 'D:/Liver Segmentation Dataset/dicom/segmentation_volumes\\\\vol_111', 'D:/Liver Segmentation Dataset/dicom/segmentation_volumes\\\\vol_112', 'D:/Liver Segmentation Dataset/dicom/segmentation_volumes\\\\vol_113', 'D:/Liver Segmentation Dataset/dicom/segmentation_volumes\\\\vol_114', 'D:/Liver Segmentation Dataset/dicom/segmentation_volumes\\\\vol_115', 'D:/Liver Segmentation Dataset/dicom/segmentation_volumes\\\\vol_116', 'D:/Liver Segmentation Dataset/dicom/segmentation_volumes\\\\vol_117', 'D:/Liver Segmentation Dataset/dicom/segmentation_volumes\\\\vol_118', 'D:/Liver Segmentation Dataset/dicom/segmentation_volumes\\\\vol_119', 'D:/Liver Segmentation Dataset/dicom/segmentation_volumes\\\\vol_12', 'D:/Liver Segmentation Dataset/dicom/segmentation_volumes\\\\vol_120', 'D:/Liver Segmentation Dataset/dicom/segmentation_volumes\\\\vol_121', 'D:/Liver Segmentation Dataset/dicom/segmentation_volumes\\\\vol_122', 'D:/Liver Segmentation Dataset/dicom/segmentation_volumes\\\\vol_123', 'D:/Liver Segmentation Dataset/dicom/segmentation_volumes\\\\vol_124', 'D:/Liver Segmentation Dataset/dicom/segmentation_volumes\\\\vol_125', 'D:/Liver Segmentation Dataset/dicom/segmentation_volumes\\\\vol_126', 'D:/Liver Segmentation Dataset/dicom/segmentation_volumes\\\\vol_127', 'D:/Liver Segmentation Dataset/dicom/segmentation_volumes\\\\vol_128', 'D:/Liver Segmentation Dataset/dicom/segmentation_volumes\\\\vol_129', 'D:/Liver Segmentation Dataset/dicom/segmentation_volumes\\\\vol_13', 'D:/Liver Segmentation Dataset/dicom/segmentation_volumes\\\\vol_130', 'D:/Liver Segmentation Dataset/dicom/segmentation_volumes\\\\vol_14', 'D:/Liver Segmentation Dataset/dicom/segmentation_volumes\\\\vol_15', 'D:/Liver Segmentation Dataset/dicom/segmentation_volumes\\\\vol_16', 'D:/Liver Segmentation Dataset/dicom/segmentation_volumes\\\\vol_17', 'D:/Liver Segmentation Dataset/dicom/segmentation_volumes\\\\vol_18', 'D:/Liver Segmentation Dataset/dicom/segmentation_volumes\\\\vol_19', 'D:/Liver Segmentation Dataset/dicom/segmentation_volumes\\\\vol_2', 'D:/Liver Segmentation Dataset/dicom/segmentation_volumes\\\\vol_20', 'D:/Liver Segmentation Dataset/dicom/segmentation_volumes\\\\vol_21', 'D:/Liver Segmentation Dataset/dicom/segmentation_volumes\\\\vol_22', 'D:/Liver Segmentation Dataset/dicom/segmentation_volumes\\\\vol_23', 'D:/Liver Segmentation Dataset/dicom/segmentation_volumes\\\\vol_24', 'D:/Liver Segmentation Dataset/dicom/segmentation_volumes\\\\vol_25', 'D:/Liver Segmentation Dataset/dicom/segmentation_volumes\\\\vol_26', 'D:/Liver Segmentation Dataset/dicom/segmentation_volumes\\\\vol_27', 'D:/Liver Segmentation Dataset/dicom/segmentation_volumes\\\\vol_28', 'D:/Liver Segmentation Dataset/dicom/segmentation_volumes\\\\vol_29', 'D:/Liver Segmentation Dataset/dicom/segmentation_volumes\\\\vol_3', 'D:/Liver Segmentation Dataset/dicom/segmentation_volumes\\\\vol_30', 'D:/Liver Segmentation Dataset/dicom/segmentation_volumes\\\\vol_31', 'D:/Liver Segmentation Dataset/dicom/segmentation_volumes\\\\vol_32', 'D:/Liver Segmentation Dataset/dicom/segmentation_volumes\\\\vol_33', 'D:/Liver Segmentation Dataset/dicom/segmentation_volumes\\\\vol_34', 'D:/Liver Segmentation Dataset/dicom/segmentation_volumes\\\\vol_35', 'D:/Liver Segmentation Dataset/dicom/segmentation_volumes\\\\vol_36', 'D:/Liver Segmentation Dataset/dicom/segmentation_volumes\\\\vol_37', 'D:/Liver Segmentation Dataset/dicom/segmentation_volumes\\\\vol_38', 'D:/Liver Segmentation Dataset/dicom/segmentation_volumes\\\\vol_39', 'D:/Liver Segmentation Dataset/dicom/segmentation_volumes\\\\vol_4', 'D:/Liver Segmentation Dataset/dicom/segmentation_volumes\\\\vol_40', 'D:/Liver Segmentation Dataset/dicom/segmentation_volumes\\\\vol_41', 'D:/Liver Segmentation Dataset/dicom/segmentation_volumes\\\\vol_42', 'D:/Liver Segmentation Dataset/dicom/segmentation_volumes\\\\vol_43', 'D:/Liver Segmentation Dataset/dicom/segmentation_volumes\\\\vol_44', 'D:/Liver Segmentation Dataset/dicom/segmentation_volumes\\\\vol_45', 'D:/Liver Segmentation Dataset/dicom/segmentation_volumes\\\\vol_46', 'D:/Liver Segmentation Dataset/dicom/segmentation_volumes\\\\vol_47', 'D:/Liver Segmentation Dataset/dicom/segmentation_volumes\\\\vol_48', 'D:/Liver Segmentation Dataset/dicom/segmentation_volumes\\\\vol_49', 'D:/Liver Segmentation Dataset/dicom/segmentation_volumes\\\\vol_5', 'D:/Liver Segmentation Dataset/dicom/segmentation_volumes\\\\vol_50', 'D:/Liver Segmentation Dataset/dicom/segmentation_volumes\\\\vol_51', 'D:/Liver Segmentation Dataset/dicom/segmentation_volumes\\\\vol_52', 'D:/Liver Segmentation Dataset/dicom/segmentation_volumes\\\\vol_53', 'D:/Liver Segmentation Dataset/dicom/segmentation_volumes\\\\vol_54', 'D:/Liver Segmentation Dataset/dicom/segmentation_volumes\\\\vol_55', 'D:/Liver Segmentation Dataset/dicom/segmentation_volumes\\\\vol_56', 'D:/Liver Segmentation Dataset/dicom/segmentation_volumes\\\\vol_57', 'D:/Liver Segmentation Dataset/dicom/segmentation_volumes\\\\vol_58', 'D:/Liver Segmentation Dataset/dicom/segmentation_volumes\\\\vol_59', 'D:/Liver Segmentation Dataset/dicom/segmentation_volumes\\\\vol_6', 'D:/Liver Segmentation Dataset/dicom/segmentation_volumes\\\\vol_60', 'D:/Liver Segmentation Dataset/dicom/segmentation_volumes\\\\vol_61', 'D:/Liver Segmentation Dataset/dicom/segmentation_volumes\\\\vol_62', 'D:/Liver Segmentation Dataset/dicom/segmentation_volumes\\\\vol_63', 'D:/Liver Segmentation Dataset/dicom/segmentation_volumes\\\\vol_64', 'D:/Liver Segmentation Dataset/dicom/segmentation_volumes\\\\vol_65', 'D:/Liver Segmentation Dataset/dicom/segmentation_volumes\\\\vol_66', 'D:/Liver Segmentation Dataset/dicom/segmentation_volumes\\\\vol_67', 'D:/Liver Segmentation Dataset/dicom/segmentation_volumes\\\\vol_68', 'D:/Liver Segmentation Dataset/dicom/segmentation_volumes\\\\vol_69', 'D:/Liver Segmentation Dataset/dicom/segmentation_volumes\\\\vol_7', 'D:/Liver Segmentation Dataset/dicom/segmentation_volumes\\\\vol_70', 'D:/Liver Segmentation Dataset/dicom/segmentation_volumes\\\\vol_71', 'D:/Liver Segmentation Dataset/dicom/segmentation_volumes\\\\vol_72', 'D:/Liver Segmentation Dataset/dicom/segmentation_volumes\\\\vol_73', 'D:/Liver Segmentation Dataset/dicom/segmentation_volumes\\\\vol_74', 'D:/Liver Segmentation Dataset/dicom/segmentation_volumes\\\\vol_75', 'D:/Liver Segmentation Dataset/dicom/segmentation_volumes\\\\vol_76', 'D:/Liver Segmentation Dataset/dicom/segmentation_volumes\\\\vol_77', 'D:/Liver Segmentation Dataset/dicom/segmentation_volumes\\\\vol_78', 'D:/Liver Segmentation Dataset/dicom/segmentation_volumes\\\\vol_79', 'D:/Liver Segmentation Dataset/dicom/segmentation_volumes\\\\vol_8', 'D:/Liver Segmentation Dataset/dicom/segmentation_volumes\\\\vol_80', 'D:/Liver Segmentation Dataset/dicom/segmentation_volumes\\\\vol_81', 'D:/Liver Segmentation Dataset/dicom/segmentation_volumes\\\\vol_82', 'D:/Liver Segmentation Dataset/dicom/segmentation_volumes\\\\vol_83', 'D:/Liver Segmentation Dataset/dicom/segmentation_volumes\\\\vol_84', 'D:/Liver Segmentation Dataset/dicom/segmentation_volumes\\\\vol_85', 'D:/Liver Segmentation Dataset/dicom/segmentation_volumes\\\\vol_86', 'D:/Liver Segmentation Dataset/dicom/segmentation_volumes\\\\vol_87', 'D:/Liver Segmentation Dataset/dicom/segmentation_volumes\\\\vol_88', 'D:/Liver Segmentation Dataset/dicom/segmentation_volumes\\\\vol_89', 'D:/Liver Segmentation Dataset/dicom/segmentation_volumes\\\\vol_9', 'D:/Liver Segmentation Dataset/dicom/segmentation_volumes\\\\vol_90', 'D:/Liver Segmentation Dataset/dicom/segmentation_volumes\\\\vol_91', 'D:/Liver Segmentation Dataset/dicom/segmentation_volumes\\\\vol_92', 'D:/Liver Segmentation Dataset/dicom/segmentation_volumes\\\\vol_93', 'D:/Liver Segmentation Dataset/dicom/segmentation_volumes\\\\vol_94', 'D:/Liver Segmentation Dataset/dicom/segmentation_volumes\\\\vol_95', 'D:/Liver Segmentation Dataset/dicom/segmentation_volumes\\\\vol_96', 'D:/Liver Segmentation Dataset/dicom/segmentation_volumes\\\\vol_97', 'D:/Liver Segmentation Dataset/dicom/segmentation_volumes\\\\vol_98', 'D:/Liver Segmentation Dataset/dicom/segmentation_volumes\\\\vol_99']\n",
      "+++++++++++++++++++++++++)))))))))))))))))**************____________\n",
      "patinetsss: ['D:/Liver Segmentation Dataset/dicom/segmentation_volumes\\\\vol_0', 'D:/Liver Segmentation Dataset/dicom/segmentation_volumes\\\\vol_1', 'D:/Liver Segmentation Dataset/dicom/segmentation_volumes\\\\vol_10', 'D:/Liver Segmentation Dataset/dicom/segmentation_volumes\\\\vol_100', 'D:/Liver Segmentation Dataset/dicom/segmentation_volumes\\\\vol_101', 'D:/Liver Segmentation Dataset/dicom/segmentation_volumes\\\\vol_102', 'D:/Liver Segmentation Dataset/dicom/segmentation_volumes\\\\vol_103', 'D:/Liver Segmentation Dataset/dicom/segmentation_volumes\\\\vol_104', 'D:/Liver Segmentation Dataset/dicom/segmentation_volumes\\\\vol_105', 'D:/Liver Segmentation Dataset/dicom/segmentation_volumes\\\\vol_106', 'D:/Liver Segmentation Dataset/dicom/segmentation_volumes\\\\vol_107', 'D:/Liver Segmentation Dataset/dicom/segmentation_volumes\\\\vol_108', 'D:/Liver Segmentation Dataset/dicom/segmentation_volumes\\\\vol_109', 'D:/Liver Segmentation Dataset/dicom/segmentation_volumes\\\\vol_11', 'D:/Liver Segmentation Dataset/dicom/segmentation_volumes\\\\vol_110', 'D:/Liver Segmentation Dataset/dicom/segmentation_volumes\\\\vol_111', 'D:/Liver Segmentation Dataset/dicom/segmentation_volumes\\\\vol_112', 'D:/Liver Segmentation Dataset/dicom/segmentation_volumes\\\\vol_113', 'D:/Liver Segmentation Dataset/dicom/segmentation_volumes\\\\vol_114', 'D:/Liver Segmentation Dataset/dicom/segmentation_volumes\\\\vol_115', 'D:/Liver Segmentation Dataset/dicom/segmentation_volumes\\\\vol_116', 'D:/Liver Segmentation Dataset/dicom/segmentation_volumes\\\\vol_117', 'D:/Liver Segmentation Dataset/dicom/segmentation_volumes\\\\vol_118', 'D:/Liver Segmentation Dataset/dicom/segmentation_volumes\\\\vol_119', 'D:/Liver Segmentation Dataset/dicom/segmentation_volumes\\\\vol_12', 'D:/Liver Segmentation Dataset/dicom/segmentation_volumes\\\\vol_120', 'D:/Liver Segmentation Dataset/dicom/segmentation_volumes\\\\vol_121', 'D:/Liver Segmentation Dataset/dicom/segmentation_volumes\\\\vol_122', 'D:/Liver Segmentation Dataset/dicom/segmentation_volumes\\\\vol_123', 'D:/Liver Segmentation Dataset/dicom/segmentation_volumes\\\\vol_124', 'D:/Liver Segmentation Dataset/dicom/segmentation_volumes\\\\vol_125', 'D:/Liver Segmentation Dataset/dicom/segmentation_volumes\\\\vol_126', 'D:/Liver Segmentation Dataset/dicom/segmentation_volumes\\\\vol_127', 'D:/Liver Segmentation Dataset/dicom/segmentation_volumes\\\\vol_128', 'D:/Liver Segmentation Dataset/dicom/segmentation_volumes\\\\vol_129', 'D:/Liver Segmentation Dataset/dicom/segmentation_volumes\\\\vol_13', 'D:/Liver Segmentation Dataset/dicom/segmentation_volumes\\\\vol_130', 'D:/Liver Segmentation Dataset/dicom/segmentation_volumes\\\\vol_14', 'D:/Liver Segmentation Dataset/dicom/segmentation_volumes\\\\vol_15', 'D:/Liver Segmentation Dataset/dicom/segmentation_volumes\\\\vol_16', 'D:/Liver Segmentation Dataset/dicom/segmentation_volumes\\\\vol_17', 'D:/Liver Segmentation Dataset/dicom/segmentation_volumes\\\\vol_18', 'D:/Liver Segmentation Dataset/dicom/segmentation_volumes\\\\vol_19', 'D:/Liver Segmentation Dataset/dicom/segmentation_volumes\\\\vol_2', 'D:/Liver Segmentation Dataset/dicom/segmentation_volumes\\\\vol_20', 'D:/Liver Segmentation Dataset/dicom/segmentation_volumes\\\\vol_21', 'D:/Liver Segmentation Dataset/dicom/segmentation_volumes\\\\vol_22', 'D:/Liver Segmentation Dataset/dicom/segmentation_volumes\\\\vol_23', 'D:/Liver Segmentation Dataset/dicom/segmentation_volumes\\\\vol_24', 'D:/Liver Segmentation Dataset/dicom/segmentation_volumes\\\\vol_25', 'D:/Liver Segmentation Dataset/dicom/segmentation_volumes\\\\vol_26', 'D:/Liver Segmentation Dataset/dicom/segmentation_volumes\\\\vol_27', 'D:/Liver Segmentation Dataset/dicom/segmentation_volumes\\\\vol_28', 'D:/Liver Segmentation Dataset/dicom/segmentation_volumes\\\\vol_29', 'D:/Liver Segmentation Dataset/dicom/segmentation_volumes\\\\vol_3', 'D:/Liver Segmentation Dataset/dicom/segmentation_volumes\\\\vol_30', 'D:/Liver Segmentation Dataset/dicom/segmentation_volumes\\\\vol_31', 'D:/Liver Segmentation Dataset/dicom/segmentation_volumes\\\\vol_32', 'D:/Liver Segmentation Dataset/dicom/segmentation_volumes\\\\vol_33', 'D:/Liver Segmentation Dataset/dicom/segmentation_volumes\\\\vol_34', 'D:/Liver Segmentation Dataset/dicom/segmentation_volumes\\\\vol_35', 'D:/Liver Segmentation Dataset/dicom/segmentation_volumes\\\\vol_36', 'D:/Liver Segmentation Dataset/dicom/segmentation_volumes\\\\vol_37', 'D:/Liver Segmentation Dataset/dicom/segmentation_volumes\\\\vol_38', 'D:/Liver Segmentation Dataset/dicom/segmentation_volumes\\\\vol_39', 'D:/Liver Segmentation Dataset/dicom/segmentation_volumes\\\\vol_4', 'D:/Liver Segmentation Dataset/dicom/segmentation_volumes\\\\vol_40', 'D:/Liver Segmentation Dataset/dicom/segmentation_volumes\\\\vol_41', 'D:/Liver Segmentation Dataset/dicom/segmentation_volumes\\\\vol_42', 'D:/Liver Segmentation Dataset/dicom/segmentation_volumes\\\\vol_43', 'D:/Liver Segmentation Dataset/dicom/segmentation_volumes\\\\vol_44', 'D:/Liver Segmentation Dataset/dicom/segmentation_volumes\\\\vol_45', 'D:/Liver Segmentation Dataset/dicom/segmentation_volumes\\\\vol_46', 'D:/Liver Segmentation Dataset/dicom/segmentation_volumes\\\\vol_47', 'D:/Liver Segmentation Dataset/dicom/segmentation_volumes\\\\vol_48', 'D:/Liver Segmentation Dataset/dicom/segmentation_volumes\\\\vol_49', 'D:/Liver Segmentation Dataset/dicom/segmentation_volumes\\\\vol_5', 'D:/Liver Segmentation Dataset/dicom/segmentation_volumes\\\\vol_50', 'D:/Liver Segmentation Dataset/dicom/segmentation_volumes\\\\vol_51', 'D:/Liver Segmentation Dataset/dicom/segmentation_volumes\\\\vol_52', 'D:/Liver Segmentation Dataset/dicom/segmentation_volumes\\\\vol_53', 'D:/Liver Segmentation Dataset/dicom/segmentation_volumes\\\\vol_54', 'D:/Liver Segmentation Dataset/dicom/segmentation_volumes\\\\vol_55', 'D:/Liver Segmentation Dataset/dicom/segmentation_volumes\\\\vol_56', 'D:/Liver Segmentation Dataset/dicom/segmentation_volumes\\\\vol_57', 'D:/Liver Segmentation Dataset/dicom/segmentation_volumes\\\\vol_58', 'D:/Liver Segmentation Dataset/dicom/segmentation_volumes\\\\vol_59', 'D:/Liver Segmentation Dataset/dicom/segmentation_volumes\\\\vol_6', 'D:/Liver Segmentation Dataset/dicom/segmentation_volumes\\\\vol_60', 'D:/Liver Segmentation Dataset/dicom/segmentation_volumes\\\\vol_61', 'D:/Liver Segmentation Dataset/dicom/segmentation_volumes\\\\vol_62', 'D:/Liver Segmentation Dataset/dicom/segmentation_volumes\\\\vol_63', 'D:/Liver Segmentation Dataset/dicom/segmentation_volumes\\\\vol_64', 'D:/Liver Segmentation Dataset/dicom/segmentation_volumes\\\\vol_65', 'D:/Liver Segmentation Dataset/dicom/segmentation_volumes\\\\vol_66', 'D:/Liver Segmentation Dataset/dicom/segmentation_volumes\\\\vol_67', 'D:/Liver Segmentation Dataset/dicom/segmentation_volumes\\\\vol_68', 'D:/Liver Segmentation Dataset/dicom/segmentation_volumes\\\\vol_69', 'D:/Liver Segmentation Dataset/dicom/segmentation_volumes\\\\vol_7', 'D:/Liver Segmentation Dataset/dicom/segmentation_volumes\\\\vol_70', 'D:/Liver Segmentation Dataset/dicom/segmentation_volumes\\\\vol_71', 'D:/Liver Segmentation Dataset/dicom/segmentation_volumes\\\\vol_72', 'D:/Liver Segmentation Dataset/dicom/segmentation_volumes\\\\vol_73', 'D:/Liver Segmentation Dataset/dicom/segmentation_volumes\\\\vol_74', 'D:/Liver Segmentation Dataset/dicom/segmentation_volumes\\\\vol_75', 'D:/Liver Segmentation Dataset/dicom/segmentation_volumes\\\\vol_76', 'D:/Liver Segmentation Dataset/dicom/segmentation_volumes\\\\vol_77', 'D:/Liver Segmentation Dataset/dicom/segmentation_volumes\\\\vol_78', 'D:/Liver Segmentation Dataset/dicom/segmentation_volumes\\\\vol_79', 'D:/Liver Segmentation Dataset/dicom/segmentation_volumes\\\\vol_8', 'D:/Liver Segmentation Dataset/dicom/segmentation_volumes\\\\vol_80', 'D:/Liver Segmentation Dataset/dicom/segmentation_volumes\\\\vol_81', 'D:/Liver Segmentation Dataset/dicom/segmentation_volumes\\\\vol_82', 'D:/Liver Segmentation Dataset/dicom/segmentation_volumes\\\\vol_83', 'D:/Liver Segmentation Dataset/dicom/segmentation_volumes\\\\vol_84', 'D:/Liver Segmentation Dataset/dicom/segmentation_volumes\\\\vol_85', 'D:/Liver Segmentation Dataset/dicom/segmentation_volumes\\\\vol_86', 'D:/Liver Segmentation Dataset/dicom/segmentation_volumes\\\\vol_87', 'D:/Liver Segmentation Dataset/dicom/segmentation_volumes\\\\vol_88', 'D:/Liver Segmentation Dataset/dicom/segmentation_volumes\\\\vol_89', 'D:/Liver Segmentation Dataset/dicom/segmentation_volumes\\\\vol_9', 'D:/Liver Segmentation Dataset/dicom/segmentation_volumes\\\\vol_90', 'D:/Liver Segmentation Dataset/dicom/segmentation_volumes\\\\vol_91', 'D:/Liver Segmentation Dataset/dicom/segmentation_volumes\\\\vol_92', 'D:/Liver Segmentation Dataset/dicom/segmentation_volumes\\\\vol_93', 'D:/Liver Segmentation Dataset/dicom/segmentation_volumes\\\\vol_94', 'D:/Liver Segmentation Dataset/dicom/segmentation_volumes\\\\vol_95', 'D:/Liver Segmentation Dataset/dicom/segmentation_volumes\\\\vol_96', 'D:/Liver Segmentation Dataset/dicom/segmentation_volumes\\\\vol_97', 'D:/Liver Segmentation Dataset/dicom/segmentation_volumes\\\\vol_98', 'D:/Liver Segmentation Dataset/dicom/segmentation_volumes\\\\vol_99']\n",
      "131\n"
     ]
    }
   ],
   "source": [
    "patient_list = glob(in_path+ '/*')\n",
    "print(patient_list)\n",
    "\n",
    "patientss = [os.path.join(in_path,i) for i in os.listdir(in_path)]\n",
    "print(\"+++++++++++++++++++++++++)))))))))))))))))**************____________\")\n",
    "print(\"patinetsss:\",patientss)\n",
    "print(len(patientss))"
   ]
  },
  {
   "cell_type": "code",
   "execution_count": 63,
   "id": "84b65913-acff-40d9-baf9-a167c629a486",
   "metadata": {},
   "outputs": [],
   "source": [
    "NUMBER_OF_GROUPSLICES = 64\n",
    "def create_dicom_groups(in_path, out_path):\n",
    "    for patient in glob(in_path + '/*'):\n",
    "        patient_name = os.path.basename(os.path.normpath(patient))\n",
    "        number_folders = int(len(glob(patient+'/*'))/NUMBER_OF_GROUPSLICES)\n",
    "        for i in range(number_folders):\n",
    "            output_path_name = os.path.join(out_path,patient_name + '_' + str(i))\n",
    "            os.mkdir(output_path_name)\n",
    "            for j, file in enumerate(glob(patient+'/*')):\n",
    "                if j == NUMBER_OF_GROUPSLICES :\n",
    "                    break\n",
    "                shutil.move(file, output_path_name)"
   ]
  },
  {
   "cell_type": "code",
   "execution_count": 64,
   "id": "4468769f-5565-4e0a-a5b6-639d4b3532f9",
   "metadata": {},
   "outputs": [],
   "source": [
    "create_dicom_groups(in_path_labels,out_path_labels)"
   ]
  },
  {
   "cell_type": "code",
   "execution_count": 65,
   "id": "36edd06d-a864-4dc5-a703-894962650260",
   "metadata": {},
   "outputs": [],
   "source": [
    "create_dicom_groups(in_path_volumes,out_path_volumes)"
   ]
  },
  {
   "cell_type": "markdown",
   "id": "d8292ab4-1ae8-4e07-a983-f285c0a862f4",
   "metadata": {},
   "source": [
    "## Convert the grouped dicom files into nifties"
   ]
  },
  {
   "cell_type": "code",
   "execution_count": 78,
   "id": "644e045d-d583-4b32-a60f-52ff5374d8c0",
   "metadata": {},
   "outputs": [],
   "source": [
    "imagesgroups_in_path = 'D:/Liver Segmentation Dataset/dicom_groups/images/*'\n",
    "labelsgroups_in_path = 'D:/Liver Segmentation Dataset/dicom_groups/labels/*'\n",
    "out_path_niftisimages = 'D:/Liver Segmentation Dataset/nifti_files_processed/images'\n",
    "out_path_niftislabels = 'D:/Liver Segmentation Dataset/nifti_files_processed/labels'"
   ]
  },
  {
   "cell_type": "code",
   "execution_count": 79,
   "id": "c6b48cc3-8784-4dc2-9f60-fc8dc16e54da",
   "metadata": {},
   "outputs": [],
   "source": [
    "list_grouped_dicomimages = glob(imagesgroups_in_path)\n",
    "list_grouped_dicomlabels = glob(labelsgroups_in_path)"
   ]
  },
  {
   "cell_type": "code",
   "execution_count": 80,
   "id": "0dacf8ca-8c0e-43e6-a4bd-4c23aae05874",
   "metadata": {},
   "outputs": [],
   "source": [
    "for patient in list_grouped_dicomimages:\n",
    "    patient_name = os.path.basename(os.path.normpath(patient))\n",
    "    dicom2nifti.dicom_series_to_nifti(patient,os.path.join(out_path_niftisimages,patient_name + '.nii.gz') )"
   ]
  },
  {
   "cell_type": "code",
   "execution_count": 81,
   "id": "fd91c256-9f40-4b9a-baa0-71034bfd1b17",
   "metadata": {},
   "outputs": [],
   "source": [
    "for patient in list_grouped_dicomlabels:\n",
    "    patient_name = os.path.basename(os.path.normpath(patient))\n",
    "    dicom2nifti.dicom_series_to_nifti(patient,os.path.join(out_path_niftislabels,patient_name + '.nii.gz') )"
   ]
  },
  {
   "cell_type": "markdown",
   "id": "b2ec2d6b-4e7f-4ae0-8f1c-db5206b6000d",
   "metadata": {},
   "source": [
    "## Find Empty\n"
   ]
  },
  {
   "cell_type": "code",
   "execution_count": 94,
   "id": "75ea31f9-a7bc-4606-a545-7cacc7b2d6d0",
   "metadata": {},
   "outputs": [
    {
     "name": "stdout",
     "output_type": "stream",
     "text": [
      "D:/Liver Segmentation Dataset/nifti_files_processed/labels\\vol_2_0.nii.gz\n",
      "D:/Liver Segmentation Dataset/nifti_files_processed/labels\\vol_2_1.nii.gz\n",
      "D:/Liver Segmentation Dataset/nifti_files_processed/labels\\vol_2_2.nii.gz\n",
      "D:/Liver Segmentation Dataset/nifti_files_processed/labels\\vol_2_3.nii.gz\n",
      "D:/Liver Segmentation Dataset/nifti_files_processed/labels\\vol_2_4.nii.gz\n",
      "D:/Liver Segmentation Dataset/nifti_files_processed/labels\\vol_3_0.nii.gz\n",
      "D:/Liver Segmentation Dataset/nifti_files_processed/labels\\vol_3_1.nii.gz\n",
      "D:/Liver Segmentation Dataset/nifti_files_processed/labels\\vol_3_2.nii.gz\n",
      "D:/Liver Segmentation Dataset/nifti_files_processed/labels\\vol_3_3.nii.gz\n"
     ]
    }
   ],
   "source": [
    "# some groups having slices that doesn't have any label which can affect the model accuracy\n",
    "input_nifi_file_path = 'D:/Liver Segmentation Dataset/nifti_files_processed/labels/*'\n",
    "list_labels = glob(input_nifi_file_path)\n",
    "\n",
    "for label_path in list_labels:\n",
    "    nifti_file = nib.load(label_path)\n",
    "    fdata = nifti_file.get_fdata() #get_fdata retrieves the underlying 3D or 4D array data (depending on the scan type) as a floating-point NumPy array.\n",
    "    np_unique = np.unique(fdata) #check the classes present in the segmentation mask to assure it is not an empty mask\n",
    "    if len(np_unique) == 1:\n",
    "        print(label_path)\n",
    "        #delete the empty segmentations using shutil lib\n",
    "\n"
   ]
  },
  {
   "cell_type": "code",
   "execution_count": null,
   "id": "523a74ad-b1d9-4da8-8672-35d12891f316",
   "metadata": {},
   "outputs": [],
   "source": []
  }
 ],
 "metadata": {
  "kernelspec": {
   "display_name": "Python 3 (ipykernel)",
   "language": "python",
   "name": "python3"
  },
  "language_info": {
   "codemirror_mode": {
    "name": "ipython",
    "version": 3
   },
   "file_extension": ".py",
   "mimetype": "text/x-python",
   "name": "python",
   "nbconvert_exporter": "python",
   "pygments_lexer": "ipython3",
   "version": "3.11.10"
  }
 },
 "nbformat": 4,
 "nbformat_minor": 5
}
