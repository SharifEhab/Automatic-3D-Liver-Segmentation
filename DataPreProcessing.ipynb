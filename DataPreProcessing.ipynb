{
 "cells": [
  {
   "cell_type": "code",
   "execution_count": 1,
   "id": "98b0e5aa-be29-4a50-b4ac-4c438e3082ad",
   "metadata": {},
   "outputs": [],
   "source": [
    "import monai"
   ]
  },
  {
   "cell_type": "code",
   "execution_count": 2,
   "id": "e4e0853d-b9bf-41d6-a2c1-a0cd94ff9d84",
   "metadata": {},
   "outputs": [],
   "source": [
    "import torch"
   ]
  },
  {
   "cell_type": "code",
   "execution_count": 3,
   "id": "fd15cb37-8ef1-4a7c-840d-e341f7260e0b",
   "metadata": {},
   "outputs": [
    {
     "data": {
      "text/plain": [
       "True"
      ]
     },
     "execution_count": 3,
     "metadata": {},
     "output_type": "execute_result"
    }
   ],
   "source": [
    "torch.cuda.is_available()"
   ]
  },
  {
   "cell_type": "code",
   "execution_count": 4,
   "id": "1051e4a6-71b9-4457-9e9a-e17506a0d90a",
   "metadata": {},
   "outputs": [
    {
     "data": {
      "text/plain": [
       "1"
      ]
     },
     "execution_count": 4,
     "metadata": {},
     "output_type": "execute_result"
    }
   ],
   "source": [
    "torch.cuda.device_count()"
   ]
  },
  {
   "cell_type": "code",
   "execution_count": 7,
   "id": "b0442c90-3e4d-46d5-8aa7-17364d584b56",
   "metadata": {},
   "outputs": [
    {
     "name": "stdout",
     "output_type": "stream",
     "text": [
      "_CudaDeviceProperties(name='NVIDIA GeForce RTX 3060 Laptop GPU', major=8, minor=6, total_memory=6143MB, multi_processor_count=30, uuid=50e51548-7596-3c86-c695-80738464d0dd, L2_cache_size=3MB)\n"
     ]
    }
   ],
   "source": [
    "for i in range(torch.cuda.device_count()):\n",
    "   print(torch.cuda.get_device_properties(i))"
   ]
  },
  {
   "cell_type": "code",
   "execution_count": 8,
   "id": "9a5def86-03f0-4f95-bd41-1f97a53741b6",
   "metadata": {},
   "outputs": [
    {
     "data": {
      "text/plain": [
       "device(type='cuda', index=0)"
      ]
     },
     "execution_count": 8,
     "metadata": {},
     "output_type": "execute_result"
    }
   ],
   "source": [
    "torch.device(\"cuda:0\")"
   ]
  },
  {
   "cell_type": "code",
   "execution_count": 10,
   "id": "e69e842e-9196-445e-ad4e-dac1036dc65c",
   "metadata": {},
   "outputs": [
    {
     "data": {
      "text/plain": [
       "[{'vol': 'aa', 'seg': 'aa'},\n",
       " {'vol': 'bb', 'seg': 'bb'},\n",
       " {'vol': 'cc', 'seg': 'cc'}]"
      ]
     },
     "execution_count": 10,
     "metadata": {},
     "output_type": "execute_result"
    }
   ],
   "source": [
    "train_vol = ['aa','bb','cc']\n",
    "train_seg_vol = ['aa','bb','cc']\n",
    "train_file = [{\"vol\": image_name, \"seg\":label_name} for image_name,label_name in zip(train_vol,train_seg_vol)]\n",
    "train_file"
   ]
  },
  {
   "cell_type": "code",
   "execution_count": 11,
   "id": "bb8807aa-ec6f-4227-9258-2eb2a410e8bf",
   "metadata": {},
   "outputs": [],
   "source": [
    "#Compose--> multiple transforms using Compose\n",
    "#LoadImaged-->load image with dict keys\n",
    "#AddChanneld--> \n",
    "#Spacingd-->pixel dimensions\n",
    "#ScaleIntensityRanged--> clip pixel intensity values for train images only(to adjust pixel contrast values) a_min and a_max depends on problem on hand, can find them using itksnap\n",
    "#Orientationd\n",
    "#CropForegroundd-->crop background\n",
    "#Resized--> spatial_size\n",
    "#ToTensord\n",
    "#any extra preprocessing or data augmentation \n",
    "\n",
    "#Then dataloaders---> CacheDataset(load patients in GPU memory) and Dataset\n",
    "#function show_pateint\n",
    " "
   ]
  },
  {
   "cell_type": "markdown",
   "id": "f77b8f68-ded6-496a-a65a-08093d7b2f60",
   "metadata": {},
   "source": [
    "### Possible errors and mistakes\n",
    "- Wrong path of data\n",
    "- Wrong extension of processed niftis\n",
    "- Wrong dict keys\n",
    "-  Multiple classes or pixel values in labels"
   ]
  },
  {
   "cell_type": "code",
   "execution_count": null,
   "id": "06ea4648-e9a0-43d5-9b3c-07f7ec64328b",
   "metadata": {},
   "outputs": [],
   "source": []
  }
 ],
 "metadata": {
  "kernelspec": {
   "display_name": "Python 3 (ipykernel)",
   "language": "python",
   "name": "python3"
  },
  "language_info": {
   "codemirror_mode": {
    "name": "ipython",
    "version": 3
   },
   "file_extension": ".py",
   "mimetype": "text/x-python",
   "name": "python",
   "nbconvert_exporter": "python",
   "pygments_lexer": "ipython3",
   "version": "3.11.10"
  }
 },
 "nbformat": 4,
 "nbformat_minor": 5
}
